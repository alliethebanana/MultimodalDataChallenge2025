{
 "cells": [
  {
   "cell_type": "code",
   "execution_count": 43,
   "id": "99959391",
   "metadata": {},
   "outputs": [],
   "source": [
    "import pandas as pd\n",
    "import matplotlib.pyplot as plt\n",
    "import numpy as np"
   ]
  },
  {
   "cell_type": "markdown",
   "id": "fac1d6cd",
   "metadata": {},
   "source": [
    "Looking into the class balance to identify those classes with the lowest representation in the dataset"
   ]
  },
  {
   "cell_type": "code",
   "execution_count": 3,
   "id": "b3256d89",
   "metadata": {},
   "outputs": [
    {
     "name": "stdout",
     "output_type": "stream",
     "text": [
      "Summary statistics for class distribution:\n"
     ]
    },
    {
     "data": {
      "text/html": [
       "<div>\n",
       "<style scoped>\n",
       "    .dataframe tbody tr th:only-of-type {\n",
       "        vertical-align: middle;\n",
       "    }\n",
       "\n",
       "    .dataframe tbody tr th {\n",
       "        vertical-align: top;\n",
       "    }\n",
       "\n",
       "    .dataframe thead th {\n",
       "        text-align: right;\n",
       "    }\n",
       "</style>\n",
       "<table border=\"1\" class=\"dataframe\">\n",
       "  <thead>\n",
       "    <tr style=\"text-align: right;\">\n",
       "      <th></th>\n",
       "      <th>count</th>\n",
       "      <th>mean</th>\n",
       "      <th>std</th>\n",
       "      <th>min</th>\n",
       "      <th>25%</th>\n",
       "      <th>50%</th>\n",
       "      <th>75%</th>\n",
       "      <th>max</th>\n",
       "    </tr>\n",
       "  </thead>\n",
       "  <tbody>\n",
       "    <tr>\n",
       "      <th>count</th>\n",
       "      <td>183.0</td>\n",
       "      <td>141.327869</td>\n",
       "      <td>141.218487</td>\n",
       "      <td>13.0</td>\n",
       "      <td>47.0</td>\n",
       "      <td>96.0</td>\n",
       "      <td>179.0</td>\n",
       "      <td>875.0</td>\n",
       "    </tr>\n",
       "  </tbody>\n",
       "</table>\n",
       "</div>"
      ],
      "text/plain": [
       "       count        mean         std   min   25%   50%    75%    max\n",
       "count  183.0  141.327869  141.218487  13.0  47.0  96.0  179.0  875.0"
      ]
     },
     "metadata": {},
     "output_type": "display_data"
    },
    {
     "name": "stdout",
     "output_type": "stream",
     "text": [
      "\n",
      "10 classes with the lowest number of examples:\n"
     ]
    },
    {
     "data": {
      "text/html": [
       "<div>\n",
       "<style scoped>\n",
       "    .dataframe tbody tr th:only-of-type {\n",
       "        vertical-align: middle;\n",
       "    }\n",
       "\n",
       "    .dataframe tbody tr th {\n",
       "        vertical-align: top;\n",
       "    }\n",
       "\n",
       "    .dataframe thead th {\n",
       "        text-align: right;\n",
       "    }\n",
       "</style>\n",
       "<table border=\"1\" class=\"dataframe\">\n",
       "  <thead>\n",
       "    <tr style=\"text-align: right;\">\n",
       "      <th></th>\n",
       "      <th>taxonID_index</th>\n",
       "      <th>count</th>\n",
       "    </tr>\n",
       "  </thead>\n",
       "  <tbody>\n",
       "    <tr>\n",
       "      <th>0</th>\n",
       "      <td>148</td>\n",
       "      <td>13</td>\n",
       "    </tr>\n",
       "    <tr>\n",
       "      <th>1</th>\n",
       "      <td>89</td>\n",
       "      <td>22</td>\n",
       "    </tr>\n",
       "    <tr>\n",
       "      <th>2</th>\n",
       "      <td>108</td>\n",
       "      <td>23</td>\n",
       "    </tr>\n",
       "    <tr>\n",
       "      <th>3</th>\n",
       "      <td>149</td>\n",
       "      <td>23</td>\n",
       "    </tr>\n",
       "    <tr>\n",
       "      <th>4</th>\n",
       "      <td>146</td>\n",
       "      <td>24</td>\n",
       "    </tr>\n",
       "    <tr>\n",
       "      <th>5</th>\n",
       "      <td>118</td>\n",
       "      <td>25</td>\n",
       "    </tr>\n",
       "    <tr>\n",
       "      <th>6</th>\n",
       "      <td>36</td>\n",
       "      <td>26</td>\n",
       "    </tr>\n",
       "    <tr>\n",
       "      <th>7</th>\n",
       "      <td>153</td>\n",
       "      <td>26</td>\n",
       "    </tr>\n",
       "    <tr>\n",
       "      <th>8</th>\n",
       "      <td>59</td>\n",
       "      <td>27</td>\n",
       "    </tr>\n",
       "    <tr>\n",
       "      <th>9</th>\n",
       "      <td>103</td>\n",
       "      <td>27</td>\n",
       "    </tr>\n",
       "  </tbody>\n",
       "</table>\n",
       "</div>"
      ],
      "text/plain": [
       "   taxonID_index  count\n",
       "0            148     13\n",
       "1             89     22\n",
       "2            108     23\n",
       "3            149     23\n",
       "4            146     24\n",
       "5            118     25\n",
       "6             36     26\n",
       "7            153     26\n",
       "8             59     27\n",
       "9            103     27"
      ]
     },
     "metadata": {},
     "output_type": "display_data"
    }
   ],
   "source": [
    "from IPython.display import display\n",
    "\n",
    "# Load the train metadata file\n",
    "train_metadata = pd.read_csv('../starting_metadata/train_metadata.csv')\n",
    "\n",
    "# Summarise the data by taxonID_index\n",
    "summary = train_metadata['taxonID_index'].value_counts().sort_index()\n",
    "# Display summary statistics\n",
    "\n",
    "print(\"Summary statistics for class distribution:\")\n",
    "display(summary.describe().to_frame().T)\n",
    "\n",
    "# Display the 10 classes with the lowest representation as a DataFrame\n",
    "print(\"\\n10 classes with the lowest number of examples:\")\n",
    "lowest_classes = summary.nsmallest(10).reset_index()\n",
    "lowest_classes.columns = ['taxonID_index', 'count']\n",
    "display(lowest_classes)\n"
   ]
  },
  {
   "cell_type": "code",
   "execution_count": 4,
   "id": "ca01db1a",
   "metadata": {},
   "outputs": [
    {
     "name": "stdout",
     "output_type": "stream",
     "text": [
      "Total number of images for classes with less than 200: 11975\n"
     ]
    }
   ],
   "source": [
    "rare_classes = summary[summary < 200]\n",
    "num_images_under_200 = rare_classes.sum()\n",
    "print(f\"Total number of images for classes with less than 200: {num_images_under_200}\")"
   ]
  },
  {
   "cell_type": "code",
   "execution_count": 5,
   "id": "5e9cb9e2",
   "metadata": {},
   "outputs": [
    {
     "data": {
      "image/png": "[encoded data removed]",
      "text/plain": [
       "<Figure size 1200x500 with 1 Axes>"
      ]
     },
     "metadata": {},
     "output_type": "display_data"
    }
   ],
   "source": [
    "# Sort by count in descending order\n",
    "sorted_counts = summary.sort_values(ascending=False).reset_index(drop=True)\n",
    "\n",
    "plt.figure(figsize=(12, 5))\n",
    "plt.plot(sorted_counts.values)\n",
    "plt.title('Long Tail Distribution of Class Counts')\n",
    "plt.xlabel('Class Rank (sorted by frequency)')\n",
    "plt.ylabel('Number of Examples per Class')\n",
    "plt.tight_layout()\n",
    "\n",
    "plt.axhline(200, color='red', linestyle='dotted', linewidth=2, label='200 examples')\n",
    "plt.legend()\n",
    "num_classes_under_200 = (summary < 200).sum()\n",
    "plt.text(\n",
    "    x=len(sorted_counts) - 60,\n",
    "    y=220,\n",
    "    s=f'Classes with <200: {num_classes_under_200} with {num_images_under_200} images',\n",
    "    color='red',\n",
    "    fontsize=12,\n",
    "    bbox=dict(facecolor='white', alpha=0.7, edgecolor='red')\n",
    ")\n",
    "plt.show()"
   ]
  },
  {
   "cell_type": "code",
   "execution_count": 6,
   "id": "b7305dd0",
   "metadata": {},
   "outputs": [],
   "source": [
    "def calculate_metadata_cost(n_rows):\n",
    "    # Define the cost per column\n",
    "    column_costs = {\n",
    "        'eventDate': 2,\n",
    "        'Latitude': 1,\n",
    "        'Longitude': 1,\n",
    "        'Habitat': 2,\n",
    "        'Substrate': 2\n",
    "    }\n",
    "    # Total cost per row\n",
    "    total_cost_per_row = sum(column_costs.values())\n",
    "    # Total cost for n_rows\n",
    "    total_cost = n_rows * total_cost_per_row\n",
    "    return total_cost"
   ]
  },
  {
   "cell_type": "code",
   "execution_count": 7,
   "id": "f8ccd69b",
   "metadata": {},
   "outputs": [
    {
     "name": "stdout",
     "output_type": "stream",
     "text": [
      "Calcuating the cost of just the lat long for 11,975 rows: 23950\n"
     ]
    },
    {
     "data": {
      "text/plain": [
       "95800"
      ]
     },
     "execution_count": 7,
     "metadata": {},
     "output_type": "execute_result"
    }
   ],
   "source": [
    "print(f'Calcuating the cost of just the lat long for 11,975 rows: {11975 * 2}')\n",
    "calculate_metadata_cost(11975)"
   ]
  },
  {
   "cell_type": "markdown",
   "id": "7a95f6dc",
   "metadata": {},
   "source": [
    "So if we wanted to take all the metadata for the classes that have less than 200 images plus a distribution of the remaining classes would come to about 2304 credits.\n",
    " "
   ]
  },
  {
   "cell_type": "code",
   "execution_count": 8,
   "id": "dac6759b",
   "metadata": {},
   "outputs": [
    {
     "name": "stdout",
     "output_type": "stream",
     "text": [
      "Total selected rows: 915\n"
     ]
    },
    {
     "data": {
      "text/html": [
       "<div>\n",
       "<style scoped>\n",
       "    .dataframe tbody tr th:only-of-type {\n",
       "        vertical-align: middle;\n",
       "    }\n",
       "\n",
       "    .dataframe tbody tr th {\n",
       "        vertical-align: top;\n",
       "    }\n",
       "\n",
       "    .dataframe thead th {\n",
       "        text-align: right;\n",
       "    }\n",
       "</style>\n",
       "<table border=\"1\" class=\"dataframe\">\n",
       "  <thead>\n",
       "    <tr style=\"text-align: right;\">\n",
       "      <th></th>\n",
       "      <th>filename_index</th>\n",
       "      <th>Habitat</th>\n",
       "      <th>Latitude</th>\n",
       "      <th>Longitude</th>\n",
       "      <th>Substrate</th>\n",
       "      <th>eventDate</th>\n",
       "      <th>taxonID_index</th>\n",
       "    </tr>\n",
       "  </thead>\n",
       "  <tbody>\n",
       "    <tr>\n",
       "      <th>0</th>\n",
       "      <td>fungi_train009155.jpg</td>\n",
       "      <td>NaN</td>\n",
       "      <td>NaN</td>\n",
       "      <td>NaN</td>\n",
       "      <td>dead wood (including bark)</td>\n",
       "      <td>NaN</td>\n",
       "      <td>0</td>\n",
       "    </tr>\n",
       "    <tr>\n",
       "      <th>1</th>\n",
       "      <td>fungi_train024253.jpg</td>\n",
       "      <td>NaN</td>\n",
       "      <td>55.941317</td>\n",
       "      <td>NaN</td>\n",
       "      <td>NaN</td>\n",
       "      <td>NaN</td>\n",
       "      <td>0</td>\n",
       "    </tr>\n",
       "    <tr>\n",
       "      <th>2</th>\n",
       "      <td>fungi_train008444.jpg</td>\n",
       "      <td>Deciduous woodland</td>\n",
       "      <td>NaN</td>\n",
       "      <td>NaN</td>\n",
       "      <td>NaN</td>\n",
       "      <td>NaN</td>\n",
       "      <td>0</td>\n",
       "    </tr>\n",
       "    <tr>\n",
       "      <th>3</th>\n",
       "      <td>fungi_train017955.jpg</td>\n",
       "      <td>Deciduous woodland</td>\n",
       "      <td>NaN</td>\n",
       "      <td>NaN</td>\n",
       "      <td>NaN</td>\n",
       "      <td>NaN</td>\n",
       "      <td>0</td>\n",
       "    </tr>\n",
       "    <tr>\n",
       "      <th>4</th>\n",
       "      <td>fungi_train000068.jpg</td>\n",
       "      <td>NaN</td>\n",
       "      <td>NaN</td>\n",
       "      <td>12.293118</td>\n",
       "      <td>NaN</td>\n",
       "      <td>NaN</td>\n",
       "      <td>0</td>\n",
       "    </tr>\n",
       "    <tr>\n",
       "      <th>5</th>\n",
       "      <td>fungi_train000768.jpg</td>\n",
       "      <td>NaN</td>\n",
       "      <td>NaN</td>\n",
       "      <td>11.843120</td>\n",
       "      <td>NaN</td>\n",
       "      <td>NaN</td>\n",
       "      <td>1</td>\n",
       "    </tr>\n",
       "    <tr>\n",
       "      <th>6</th>\n",
       "      <td>fungi_train013082.jpg</td>\n",
       "      <td>NaN</td>\n",
       "      <td>NaN</td>\n",
       "      <td>NaN</td>\n",
       "      <td>NaN</td>\n",
       "      <td>2011-08-28</td>\n",
       "      <td>1</td>\n",
       "    </tr>\n",
       "    <tr>\n",
       "      <th>7</th>\n",
       "      <td>fungi_train008524.jpg</td>\n",
       "      <td>NaN</td>\n",
       "      <td>NaN</td>\n",
       "      <td>NaN</td>\n",
       "      <td>NaN</td>\n",
       "      <td>2018-09-15</td>\n",
       "      <td>1</td>\n",
       "    </tr>\n",
       "    <tr>\n",
       "      <th>8</th>\n",
       "      <td>fungi_train000909.jpg</td>\n",
       "      <td>NaN</td>\n",
       "      <td>NaN</td>\n",
       "      <td>9.700265</td>\n",
       "      <td>NaN</td>\n",
       "      <td>NaN</td>\n",
       "      <td>1</td>\n",
       "    </tr>\n",
       "    <tr>\n",
       "      <th>9</th>\n",
       "      <td>fungi_train015289.jpg</td>\n",
       "      <td>NaN</td>\n",
       "      <td>NaN</td>\n",
       "      <td>12.445812</td>\n",
       "      <td>NaN</td>\n",
       "      <td>NaN</td>\n",
       "      <td>1</td>\n",
       "    </tr>\n",
       "  </tbody>\n",
       "</table>\n",
       "</div>"
      ],
      "text/plain": [
       "          filename_index             Habitat   Latitude  Longitude  \\\n",
       "0  fungi_train009155.jpg                 NaN        NaN        NaN   \n",
       "1  fungi_train024253.jpg                 NaN  55.941317        NaN   \n",
       "2  fungi_train008444.jpg  Deciduous woodland        NaN        NaN   \n",
       "3  fungi_train017955.jpg  Deciduous woodland        NaN        NaN   \n",
       "4  fungi_train000068.jpg                 NaN        NaN  12.293118   \n",
       "5  fungi_train000768.jpg                 NaN        NaN  11.843120   \n",
       "6  fungi_train013082.jpg                 NaN        NaN        NaN   \n",
       "7  fungi_train008524.jpg                 NaN        NaN        NaN   \n",
       "8  fungi_train000909.jpg                 NaN        NaN   9.700265   \n",
       "9  fungi_train015289.jpg                 NaN        NaN  12.445812   \n",
       "\n",
       "                    Substrate   eventDate  taxonID_index  \n",
       "0  dead wood (including bark)         NaN              0  \n",
       "1                         NaN         NaN              0  \n",
       "2                         NaN         NaN              0  \n",
       "3                         NaN         NaN              0  \n",
       "4                         NaN         NaN              0  \n",
       "5                         NaN         NaN              1  \n",
       "6                         NaN  2011-08-28              1  \n",
       "7                         NaN  2018-09-15              1  \n",
       "8                         NaN         NaN              1  \n",
       "9                         NaN         NaN              1  "
      ]
     },
     "metadata": {},
     "output_type": "display_data"
    }
   ],
   "source": [
    "def select_rows_with_metadata(df, class_col, n=5, metadata_cols=None):\n",
    "    if metadata_cols is None:\n",
    "        metadata_cols = ['Habitat', 'Latitude', 'Longitude', 'Substrate', 'eventDate']\n",
    "    selected = []\n",
    "    for class_id, group in df.groupby(class_col):\n",
    "        # Prioritize rows with any metadata present\n",
    "        has_metadata = group[metadata_cols].notnull().any(axis=1)\n",
    "        group_with_metadata = group[has_metadata]\n",
    "        group_without_metadata = group[~has_metadata]\n",
    "        # Select up to n rows, prioritizing those with metadata\n",
    "        selected_rows = pd.concat([\n",
    "            group_with_metadata.sample(n=min(len(group_with_metadata), n), random_state=42),\n",
    "            group_without_metadata.sample(n=max(0, n - len(group_with_metadata)), random_state=42)\n",
    "        ])\n",
    "        selected.append(selected_rows)\n",
    "    return pd.concat(selected, ignore_index=True)\n",
    "\n",
    "selected_5_per_class = select_rows_with_metadata(\n",
    "    train_metadata, \n",
    "    class_col='taxonID_index', \n",
    "    n=5, \n",
    "    metadata_cols=['Habitat', 'Latitude', 'Longitude', 'Substrate', 'eventDate']\n",
    ")\n",
    "\n",
    "print(f\"Total selected rows: {len(selected_5_per_class)}\")\n",
    "display(selected_5_per_class.head(10))"
   ]
  },
  {
   "cell_type": "code",
   "execution_count": 9,
   "id": "6c6dd2c4",
   "metadata": {},
   "outputs": [
    {
     "name": "stdout",
     "output_type": "stream",
     "text": [
      "Number of NaNs per column in selected_5_per_class:\n",
      "filename_index      0\n",
      "Habitat           748\n",
      "Latitude          769\n",
      "Longitude         755\n",
      "Substrate         769\n",
      "eventDate         774\n",
      "taxonID_index       0\n",
      "dtype: int64\n",
      "Total number of NaNs in selected_5_per_class: 3815\n"
     ]
    }
   ],
   "source": [
    "nans_per_column = selected_5_per_class.isna().sum()\n",
    "print(\"Number of NaNs per column in selected_5_per_class:\")\n",
    "print(nans_per_column)\n",
    "total_nans = nans_per_column.sum()\n",
    "print(f\"Total number of NaNs in selected_5_per_class: {total_nans}\")"
   ]
  },
  {
   "cell_type": "code",
   "execution_count": 10,
   "id": "e3ae8ad0",
   "metadata": {},
   "outputs": [
    {
     "name": "stdout",
     "output_type": "stream",
     "text": [
      "Total number of missing metadata entries: 3815\n"
     ]
    }
   ],
   "source": [
    "data = []\n",
    "metadata_cols = ['Habitat', 'Latitude', 'Longitude', 'Substrate', 'eventDate']\n",
    "\n",
    "for _, row in selected_5_per_class.iterrows():\n",
    "    for col in metadata_cols:\n",
    "        if pd.isnull(row[col]):\n",
    "            data.append([row['filename_index'], col])\n",
    "print(f\"Total number of missing metadata entries: {len(data)}\")"
   ]
  },
  {
   "cell_type": "code",
   "execution_count": 11,
   "id": "d92c8607",
   "metadata": {},
   "outputs": [
    {
     "data": {
      "text/plain": [
       "7320"
      ]
     },
     "execution_count": 11,
     "metadata": {},
     "output_type": "execute_result"
    }
   ],
   "source": [
    "calculate_metadata_cost(len(selected_5_per_class))"
   ]
  },
  {
   "cell_type": "code",
   "execution_count": 12,
   "id": "521d3650",
   "metadata": {},
   "outputs": [
    {
     "name": "stdout",
     "output_type": "stream",
     "text": [
      "Total metadata cost: 6106\n"
     ]
    }
   ],
   "source": [
    "metadata_costs = {'eventDate': 2, 'Latitude': 1, 'Longitude': 1, 'Habitat': 2, 'Substrate': 2}\n",
    "cost = 0\n",
    "for d in data:\n",
    "   cost += metadata_costs.get(d[1], 0)\n",
    "\n",
    "print(\"Total metadata cost:\", cost)"
   ]
  },
  {
   "cell_type": "code",
   "execution_count": 13,
   "id": "71a2c997",
   "metadata": {},
   "outputs": [
    {
     "name": "stdout",
     "output_type": "stream",
     "text": [
      "Data has been successfully written to 'shoppinglist.csv'.\n"
     ]
    }
   ],
   "source": [
    "import csv\n",
    "\n",
    "# Specify the output file name\n",
    "output_file = \"shoppinglist.csv\"\n",
    "\n",
    "# Write data to the CSV file\n",
    "with open(output_file, mode=\"w\", newline=\"\") as csv_file:\n",
    "    writer = csv.writer(csv_file)\n",
    "    # Write rows into the file\n",
    "    writer.writerows(data)\n",
    "\n",
    "print(f\"Data has been successfully written to '{output_file}'.\")"
   ]
  },
  {
   "cell_type": "markdown",
   "id": "f13513c2",
   "metadata": {},
   "source": [
    "## Second round of shopping "
   ]
  },
  {
   "cell_type": "code",
   "execution_count": 15,
   "id": "1ab59cff",
   "metadata": {},
   "outputs": [],
   "source": [
    "metadata = pd.read_csv(r'..\\starting_metadata\\metadata.csv')"
   ]
  },
  {
   "cell_type": "markdown",
   "id": "b12bc6a1",
   "metadata": {},
   "source": [
    "#### Rows for completion "
   ]
  },
  {
   "cell_type": "code",
   "execution_count": 28,
   "id": "2b9069bb",
   "metadata": {},
   "outputs": [
    {
     "name": "stdout",
     "output_type": "stream",
     "text": [
      "Total cost for lat long: 390\n"
     ]
    }
   ],
   "source": [
    "# Get the indices (class IDs) of classes with less than 200 images\n",
    "sub_200_class_ids = rare_classes.index\n",
    "\n",
    "# Filter train_metadata for rows belonging to these classes\n",
    "sub_200_rows = train_metadata[train_metadata['taxonID_index'].isin(sub_200_class_ids)]\n",
    "\n",
    "# Only consider rows where at least one of Latitude or Longitude is not null\n",
    "has_latlong = sub_200_rows[['Latitude', 'Longitude']].notnull().any(axis=1)\n",
    "sub_200_with_latlong = sub_200_rows[has_latlong]\n",
    "\n",
    "# Count how many latitude and longitude values are missing in the sample\n",
    "lat_missing = sub_200_with_latlong['Latitude'].isna().sum()\n",
    "long_missing = sub_200_with_latlong['Longitude'].isna().sum()\n",
    "\n",
    "latlong_cost = lat_missing + long_missing\n",
    "print(f\"Total cost for lat long: {latlong_cost}\")"
   ]
  },
  {
   "cell_type": "markdown",
   "id": "7d76be75",
   "metadata": {},
   "source": [
    "#### looking at cost for 50% or remaining rare classes "
   ]
  },
  {
   "cell_type": "code",
   "execution_count": 34,
   "id": "e3a9b946",
   "metadata": {},
   "outputs": [
    {
     "name": "stdout",
     "output_type": "stream",
     "text": [
      "Total number of rows without lat long: 11585\n",
      "Cost for 50% sampled rows: 11580\n"
     ]
    },
    {
     "name": "stderr",
     "output_type": "stream",
     "text": [
      "C:\\Users\\ngrec\\AppData\\Local\\Temp\\ipykernel_44528\\1456028254.py:8: FutureWarning: DataFrameGroupBy.apply operated on the grouping columns. This behavior is deprecated, and in a future version of pandas the grouping columns will be excluded from the operation. Either pass `include_groups=False` to exclude the groupings or explicitly select the grouping columns after groupby to silence this warning.\n",
      "  .apply(lambda x: x.sample(frac=0.5, random_state=42) if len(x) > 1 else x)\n"
     ]
    }
   ],
   "source": [
    "no_latlong = sub_200_rows[['Latitude', 'Longitude']].isnull().all(axis=1)\n",
    "sub_200_withouth_latlong = sub_200_rows[no_latlong]\n",
    "print(f\"Total number of rows without lat long: {len(sub_200_withouth_latlong)}\")\n",
    "\n",
    "sampled_rows = (\n",
    "    sub_200_withouth_latlong\n",
    "    .groupby('taxonID_index', group_keys=False)\n",
    "    .apply(lambda x: x.sample(frac=0.5, random_state=42) if len(x) > 1 else x)\n",
    ")\n",
    "\n",
    "len_sampled = len(sampled_rows)\n",
    "print(f\"Cost for 50% sampled rows: {len_sampled*2}\")"
   ]
  },
  {
   "cell_type": "markdown",
   "id": "8ce6b2f3",
   "metadata": {},
   "source": [
    "\n",
    "## Checking cost for all the log lat minus the ban list "
   ]
  },
  {
   "cell_type": "code",
   "execution_count": 35,
   "id": "c1d395a4",
   "metadata": {},
   "outputs": [
    {
     "name": "stdout",
     "output_type": "stream",
     "text": [
      "Filtered train_metadata shape: (25863, 7)\n"
     ]
    },
    {
     "data": {
      "text/html": [
       "<div>\n",
       "<style scoped>\n",
       "    .dataframe tbody tr th:only-of-type {\n",
       "        vertical-align: middle;\n",
       "    }\n",
       "\n",
       "    .dataframe tbody tr th {\n",
       "        vertical-align: top;\n",
       "    }\n",
       "\n",
       "    .dataframe thead th {\n",
       "        text-align: right;\n",
       "    }\n",
       "</style>\n",
       "<table border=\"1\" class=\"dataframe\">\n",
       "  <thead>\n",
       "    <tr style=\"text-align: right;\">\n",
       "      <th></th>\n",
       "      <th>filename_index</th>\n",
       "      <th>Habitat</th>\n",
       "      <th>Latitude</th>\n",
       "      <th>Longitude</th>\n",
       "      <th>Substrate</th>\n",
       "      <th>eventDate</th>\n",
       "      <th>taxonID_index</th>\n",
       "    </tr>\n",
       "  </thead>\n",
       "  <tbody>\n",
       "    <tr>\n",
       "      <th>0</th>\n",
       "      <td>fungi_train000000.jpg</td>\n",
       "      <td>NaN</td>\n",
       "      <td>NaN</td>\n",
       "      <td>NaN</td>\n",
       "      <td>NaN</td>\n",
       "      <td>NaN</td>\n",
       "      <td>66</td>\n",
       "    </tr>\n",
       "    <tr>\n",
       "      <th>1</th>\n",
       "      <td>fungi_train000001.jpg</td>\n",
       "      <td>NaN</td>\n",
       "      <td>NaN</td>\n",
       "      <td>NaN</td>\n",
       "      <td>NaN</td>\n",
       "      <td>NaN</td>\n",
       "      <td>174</td>\n",
       "    </tr>\n",
       "    <tr>\n",
       "      <th>2</th>\n",
       "      <td>fungi_train000002.jpg</td>\n",
       "      <td>NaN</td>\n",
       "      <td>NaN</td>\n",
       "      <td>NaN</td>\n",
       "      <td>NaN</td>\n",
       "      <td>NaN</td>\n",
       "      <td>50</td>\n",
       "    </tr>\n",
       "    <tr>\n",
       "      <th>3</th>\n",
       "      <td>fungi_train000003.jpg</td>\n",
       "      <td>NaN</td>\n",
       "      <td>NaN</td>\n",
       "      <td>NaN</td>\n",
       "      <td>NaN</td>\n",
       "      <td>NaN</td>\n",
       "      <td>72</td>\n",
       "    </tr>\n",
       "    <tr>\n",
       "      <th>4</th>\n",
       "      <td>fungi_train000004.jpg</td>\n",
       "      <td>NaN</td>\n",
       "      <td>NaN</td>\n",
       "      <td>NaN</td>\n",
       "      <td>NaN</td>\n",
       "      <td>NaN</td>\n",
       "      <td>30</td>\n",
       "    </tr>\n",
       "  </tbody>\n",
       "</table>\n",
       "</div>"
      ],
      "text/plain": [
       "          filename_index Habitat  Latitude  Longitude Substrate eventDate  \\\n",
       "0  fungi_train000000.jpg     NaN       NaN        NaN       NaN       NaN   \n",
       "1  fungi_train000001.jpg     NaN       NaN        NaN       NaN       NaN   \n",
       "2  fungi_train000002.jpg     NaN       NaN        NaN       NaN       NaN   \n",
       "3  fungi_train000003.jpg     NaN       NaN        NaN       NaN       NaN   \n",
       "4  fungi_train000004.jpg     NaN       NaN        NaN       NaN       NaN   \n",
       "\n",
       "   taxonID_index  \n",
       "0             66  \n",
       "1            174  \n",
       "2             50  \n",
       "3             72  \n",
       "4             30  "
      ]
     },
     "metadata": {},
     "output_type": "display_data"
    }
   ],
   "source": [
    "# Load the cluster index file\n",
    "cluster_index = pd.read_csv(r'..\\cluster_index.csv')\n",
    "\n",
    "# Filter train_metadata to only include rows with filename_index present in cluster_index\n",
    "filtered_train = train_metadata[train_metadata['filename_index'].isin(cluster_index['filename_index'])]\n",
    "\n",
    "print(f\"Filtered train_metadata shape: {filtered_train.shape}\")\n",
    "display(filtered_train.head())"
   ]
  },
  {
   "cell_type": "code",
   "execution_count": 36,
   "id": "292ca071",
   "metadata": {},
   "outputs": [
    {
     "name": "stdout",
     "output_type": "stream",
     "text": [
      "Missing Latitude: 25471\n",
      "Missing Longitude: 25450\n",
      "Total cost for all missing Latitude and Longitude in filtered_train: 50921\n"
     ]
    }
   ],
   "source": [
    "# Calculate the number of missing Latitude and Longitude values in filtered_train\n",
    "missing_lat = filtered_train['Latitude'].isna().sum()\n",
    "missing_long = filtered_train['Longitude'].isna().sum()\n",
    "\n",
    "# Each missing Latitude or Longitude costs 1 credit (from metadata_costs)\n",
    "total_latlong_cost = missing_lat * metadata_costs['Latitude'] + missing_long * metadata_costs['Longitude']\n",
    "\n",
    "print(f\"Missing Latitude: {missing_lat}\")\n",
    "print(f\"Missing Longitude: {missing_long}\")\n",
    "print(f\"Total cost for all missing Latitude and Longitude in filtered_train: {total_latlong_cost}\")"
   ]
  },
  {
   "cell_type": "code",
   "execution_count": 39,
   "id": "36c00dc4",
   "metadata": {},
   "outputs": [
    {
     "name": "stdout",
     "output_type": "stream",
     "text": [
      "Missing Latitude: 11783\n",
      "Missing Longitude: 11777\n",
      "Total cost for missing Latitude and Longitude for rare classes in filtered_train: 23560\n"
     ]
    }
   ],
   "source": [
    "# Get all rows in filtered_train that belong to rare classes\n",
    "rare_class_ids = rare_classes.index\n",
    "filtered_rare_rows = filtered_train[filtered_train['taxonID_index'].isin(rare_class_ids)]\n",
    "\n",
    "# Count missing Latitude and Longitude for rare classes in filtered_train\n",
    "missing_lat = filtered_rare_rows['Latitude'].isna().sum()\n",
    "missing_long = filtered_rare_rows['Longitude'].isna().sum()\n",
    "latlong_cost = missing_lat * metadata_costs['Latitude'] + missing_long * metadata_costs['Longitude']\n",
    "\n",
    "print(f\"Missing Latitude: {missing_lat}\")\n",
    "print(f\"Missing Longitude: {missing_long}\")\n",
    "print(f\"Total cost for missing Latitude and Longitude for rare classes in filtered_train: {latlong_cost}\")"
   ]
  },
  {
   "cell_type": "code",
   "execution_count": 41,
   "id": "443ad369",
   "metadata": {},
   "outputs": [
    {
     "name": "stdout",
     "output_type": "stream",
     "text": [
      "Number of sampled rows: 6944\n",
      "Missing Latitude: 6852\n",
      "Missing Longitude: 6842\n",
      "Total cost for 50% of missing lat/long in non-rare classes: 13694\n"
     ]
    },
    {
     "name": "stderr",
     "output_type": "stream",
     "text": [
      "C:\\Users\\ngrec\\AppData\\Local\\Temp\\ipykernel_44528\\2911464249.py:15: FutureWarning: DataFrameGroupBy.apply operated on the grouping columns. This behavior is deprecated, and in a future version of pandas the grouping columns will be excluded from the operation. Either pass `include_groups=False` to exclude the groupings or explicitly select the grouping columns after groupby to silence this warning.\n",
      "  .apply(lambda x: x.sample(frac=0.5, random_state=42) if len(x) > 1 else x)\n"
     ]
    }
   ],
   "source": [
    "# Get classes NOT in rare_classes\n",
    "non_rare_class_ids = summary.index.difference(rare_classes.index)\n",
    "\n",
    "# Filter train_metadata for these classes\n",
    "non_rare_rows = train_metadata[train_metadata['taxonID_index'].isin(non_rare_class_ids)]\n",
    "\n",
    "# Find rows missing either Latitude or Longitude\n",
    "missing_latlong = non_rare_rows[['Latitude', 'Longitude']].isnull().any(axis=1)\n",
    "missing_latlong_rows = non_rare_rows[missing_latlong]\n",
    "\n",
    "# Sample 50% from each class\n",
    "sampled_missing_latlong = (\n",
    "    missing_latlong_rows\n",
    "    .groupby('taxonID_index', group_keys=False)\n",
    "    .apply(lambda x: x.sample(frac=0.5, random_state=42) if len(x) > 1 else x)\n",
    ")\n",
    "\n",
    "missing_lat = sampled_missing_latlong['Latitude'].isna().sum()\n",
    "missing_long = sampled_missing_latlong['Longitude'].isna().sum()\n",
    "cost_50pct_missing_latlong = (\n",
    "    missing_lat * metadata_costs['Latitude'] +\n",
    "    missing_long * metadata_costs['Longitude']\n",
    ")\n",
    "\n",
    "print(f\"Number of sampled rows: {len(sampled_missing_latlong)}\")\n",
    "print(f\"Missing Latitude: {missing_lat}\")\n",
    "print(f\"Missing Longitude: {missing_long}\")\n",
    "print(f\"Total cost for 50% of missing lat/long in non-rare classes: {cost_50pct_missing_latlong}\")"
   ]
  },
  {
   "cell_type": "code",
   "execution_count": 44,
   "id": "18cbd14d",
   "metadata": {},
   "outputs": [
    {
     "name": "stdout",
     "output_type": "stream",
     "text": [
      "Total shopping list entries: 37047\n",
      "Shopping list saved to shoppinglist_latlong.csv\n"
     ]
    }
   ],
   "source": [
    "# Shopping list for all missing lat/lon in rare classes\n",
    "rare_missing_lat = filtered_rare_rows['Latitude'].isna()\n",
    "rare_missing_long = filtered_rare_rows['Longitude'].isna()\n",
    "rare_missing_latlong = filtered_rare_rows[rare_missing_lat | rare_missing_long]\n",
    "\n",
    "# Prepare shopping list for rare classes\n",
    "rare_shopping_list = []\n",
    "for _, row in rare_missing_latlong.iterrows():\n",
    "    if pd.isna(row['Latitude']):\n",
    "        rare_shopping_list.append([row['filename_index'], 'Latitude'])\n",
    "    if pd.isna(row['Longitude']):\n",
    "        rare_shopping_list.append([row['filename_index'], 'Longitude'])\n",
    "\n",
    "# For non-rare classes, get 50% of rows per class missing either lat or long, prioritizing those with one present\n",
    "non_rare_missing_latlong_rows = non_rare_rows[non_rare_rows[['Latitude', 'Longitude']].isnull().any(axis=1)]\n",
    "\n",
    "def sample_50pct_prioritize_partial(df, class_col='taxonID_index'):\n",
    "    sampled = []\n",
    "    for class_id, group in df.groupby(class_col):\n",
    "        # Prioritize rows where only one of lat/long is missing (i.e., one is present)\n",
    "        partial = group[group[['Latitude', 'Longitude']].notnull().any(axis=1)]\n",
    "        all_missing = group[group[['Latitude', 'Longitude']].isnull().all(axis=1)]\n",
    "        n = int(np.ceil(len(group) * 0.5))\n",
    "        n_partial = min(len(partial), n)\n",
    "        n_all_missing = max(0, n - n_partial)\n",
    "        sampled_rows = pd.concat([\n",
    "            partial.sample(n=n_partial, random_state=42) if n_partial > 0 else pd.DataFrame(),\n",
    "            all_missing.sample(n=n_all_missing, random_state=42) if n_all_missing > 0 else pd.DataFrame()\n",
    "        ])\n",
    "        sampled.append(sampled_rows)\n",
    "    return pd.concat(sampled, ignore_index=True)\n",
    "\n",
    "non_rare_sampled = sample_50pct_prioritize_partial(non_rare_missing_latlong_rows)\n",
    "\n",
    "# Prepare shopping list for non-rare sampled rows\n",
    "non_rare_shopping_list = []\n",
    "for _, row in non_rare_sampled.iterrows():\n",
    "    if pd.isna(row['Latitude']):\n",
    "        non_rare_shopping_list.append([row['filename_index'], 'Latitude'])\n",
    "    if pd.isna(row['Longitude']):\n",
    "        non_rare_shopping_list.append([row['filename_index'], 'Longitude'])\n",
    "\n",
    "# Combine both lists\n",
    "shopping_list = rare_shopping_list + non_rare_shopping_list\n",
    "\n",
    "print(f\"Total shopping list entries: {len(shopping_list)}\")\n",
    "# Optionally, write to CSV\n",
    "with open(\"shoppinglist_latlong.csv\", mode=\"w\", newline=\"\") as f:\n",
    "    writer = csv.writer(f)\n",
    "    writer.writerows(shopping_list)\n",
    "print(\"Shopping list saved to shoppinglist_latlong.csv\")"
   ]
  },
  {
   "cell_type": "code",
   "execution_count": null,
   "id": "8e94dfca",
   "metadata": {},
   "outputs": [],
   "source": []
  }
 ],
 "metadata": {
  "kernelspec": {
   "display_name": "default",
   "language": "python",
   "name": "python3"
  },
  "language_info": {
   "codemirror_mode": {
    "name": "ipython",
    "version": 3
   },
   "file_extension": ".py",
   "mimetype": "text/x-python",
   "name": "python",
   "nbconvert_exporter": "python",
   "pygments_lexer": "ipython3",
   "version": "3.13.5"
  }
 },
 "nbformat": 4,
 "nbformat_minor": 5
}
